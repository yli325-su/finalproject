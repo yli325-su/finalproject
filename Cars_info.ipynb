{
 "cells": [
  {
   "cell_type": "code",
   "execution_count": 1,
   "metadata": {},
   "outputs": [],
   "source": [
    "import requests\n",
    "import json\n",
    "import pandas as pd\n",
    "import folium\n",
    "from IPython.display import Image\n",
    "from IPython.core.display import HTML\n",
    "from IPython.display import Markdown, display\n",
    "import warnings\n",
    "warnings.filterwarnings('ignore')"
   ]
  },
  {
   "cell_type": "code",
   "execution_count": 2,
   "metadata": {},
   "outputs": [],
   "source": [
    "def printmd(string, color=None):\n",
    "    colorstr = \"<span style='color:{}'>{}</span>\".format(color, string)\n",
    "    display(Markdown(colorstr))"
   ]
  },
  {
   "cell_type": "code",
   "execution_count": 3,
   "metadata": {},
   "outputs": [],
   "source": [
    "def get_position(city_name):\n",
    "    url = 'https://nominatim.openstreetmap.org/search?q='+ city_name + '&format=json'  # Use openstreetmap to get the longtitude and latitude that user entered\n",
    "    response = requests.get(url)\n",
    "    r = response.json()\n",
    "    latitude = r[0]['lat']\n",
    "    longtitude = r[0]['lon']\n",
    "    position = (latitude, longtitude)\n",
    "    return position"
   ]
  },
  {
   "cell_type": "code",
   "execution_count": 4,
   "metadata": {},
   "outputs": [],
   "source": [
    "def vehicle_data(manufacturer, model, model_year, car_condition, radius):\n",
    "    url = 'http://api.marketcheck.com/v1/search?api_key=A4BOgtzeC4SvzhgNYGYe7AIbCIe0wD0q&make=' + manufacturer + '&model=' + model +  '&year=' + model_year + '&car_type=' + car_condition + '&latitude=' + get_position(city_name)[0] + '&longitude=' + get_position(city_name)[1] + '&radius=' + radius +'&start=0&rows=50'\n",
    "    headers = {\n",
    "      'Host': 'marketcheck-prod.apigee.net'\n",
    "    }\n",
    "    response = requests.request('GET', url, headers = headers)\n",
    "    vehicle_data = response.json()\n",
    "    return vehicle_data"
   ]
  },
  {
   "cell_type": "code",
   "execution_count": 5,
   "metadata": {},
   "outputs": [],
   "source": [
    "def General_info(vedata):\n",
    "    heading = []\n",
    "    for i in vedata['listings']:\n",
    "        try:\n",
    "            heading.append(i['heading'])\n",
    "        except:\n",
    "            heading.append('None')\n",
    "\n",
    "    price = []\n",
    "    for i in vedata['listings']:\n",
    "        try:\n",
    "            price.append(i['price'])\n",
    "        except:\n",
    "            price.append('None')\n",
    "            \n",
    "    exterior_color = []\n",
    "    for i in vedata['listings']:\n",
    "        try:\n",
    "            exterior_color.append(i['exterior_color'])\n",
    "        except:\n",
    "            exterior_color.append('None')\n",
    "\n",
    "    interior_color = []\n",
    "    for i in vedata['listings']:\n",
    "        try:\n",
    "            interior_color.append(i['interior_color'])\n",
    "        except:\n",
    "            interior_color.append('None')\n",
    "\n",
    "    body_type = []\n",
    "    for i in vedata['listings']:\n",
    "        try:\n",
    "            body_type.append(i['build']['body_type'])\n",
    "        except:\n",
    "            body_type.append('None')\n",
    "\n",
    "    vin = []\n",
    "    for i in vedata['listings']:\n",
    "        try:\n",
    "            vin.append(i['vin'])\n",
    "        except:\n",
    "            vin.append('None')\n",
    "\n",
    "    headings = pd.Series( data = heading)\n",
    "    prices = pd.Series( data = price)\n",
    "    exterior_colors = pd.Series( data = exterior_color)\n",
    "    interior_colors = pd.Series( data = interior_color)\n",
    "    body_types = pd.Series( data = body_type)\n",
    "    vins = pd.Series( data = vin)\n",
    "\n",
    "    series_dict = {'Vehicle Name' : headings , 'Retail Price' : prices , 'Exterior Color' : exterior_colors , 'Interior Color' : interior_colors , 'Vehicle Type' : body_types , 'Vin Number' : vins}\n",
    "    general_info = pd.DataFrame( series_dict )\n",
    "    if general_info.empty:\n",
    "        return print(\"Sorry, there is nothing found!\")\n",
    "    else:\n",
    "        return general_info"
   ]
  },
  {
   "cell_type": "code",
   "execution_count": 6,
   "metadata": {},
   "outputs": [],
   "source": [
    "def Detail_info(car_num):\n",
    "    try:\n",
    "        0 <= int(car_num) <= vedata['num_found']-1\n",
    "        \n",
    "        try:\n",
    "            d_heading = pd.Series(data = vedata['listings'][int(car_num)]['heading'])\n",
    "        except:\n",
    "            d_heading = pd.Series(data = 'None')\n",
    "            \n",
    "        try:\n",
    "            d_price = pd.Series(data = vedata['listings'][int(car_num)]['price'])\n",
    "        except:\n",
    "            d_price = pd.Series(data = 'None')\n",
    "            \n",
    "        try:\n",
    "            d_msrp = pd.Series(data = vedata['listings'][int(car_num)]['msrp'])\n",
    "        except:\n",
    "            d_msrp = pd.Series(data = 'None')\n",
    "            \n",
    "        try:\n",
    "            d_url = pd.Series(data = vedata['listings'][int(car_num)]['vdp_url'])\n",
    "        except:\n",
    "            d_url = pd.Series(data = 'None')\n",
    "            \n",
    "        try:\n",
    "            d_exterior_color = pd.Series(data = vedata['listings'][int(car_num)]['exterior_color'])\n",
    "        except:\n",
    "            d_exterior_color = pd.Series(data = 'None')\n",
    "            \n",
    "        try:\n",
    "            d_interior_color = pd.Series(data = vedata['listings'][int(car_num)]['interior_color'])\n",
    "        except:\n",
    "            d_interior_color = pd.Series(data = 'None')\n",
    "            \n",
    "        try:\n",
    "            d_build_year = pd.Series(data = vedata['listings'][int(car_num)]['build']['year'])\n",
    "        except:\n",
    "            d_build_year = pd.Series(data = 'None')\n",
    "            \n",
    "        try:\n",
    "            d_build_make = pd.Series(data = vedata['listings'][int(car_num)]['build']['make'])\n",
    "        except:\n",
    "            d_build_make = pd.Series(data = 'None')\n",
    "            \n",
    "        try:\n",
    "            d_build_model = pd.Series(data = vedata['listings'][int(car_num)]['build']['model'])\n",
    "        except:\n",
    "            d_build_model = pd.Series(data = 'None')\n",
    "            \n",
    "        try:\n",
    "            d_build_trim = pd.Series(data = vedata['listings'][int(car_num)]['build']['trim'])\n",
    "        except:\n",
    "            d_build_trim = pd.Series(data = 'None')\n",
    "            \n",
    "        try:\n",
    "            d_build_body_type = pd.Series(data = vedata['listings'][int(car_num)]['build']['body_type'])\n",
    "        except:\n",
    "            d_build_body_type = pd.Series(data = 'None')\n",
    "        \n",
    "        try:\n",
    "            d_build_door = pd.Series(data = vedata['listings'][int(car_num)]['build']['door'])\n",
    "        except:\n",
    "            d_build_door = pd.Series(data = 'None')\n",
    "        \n",
    "        \n",
    "        try:\n",
    "            d_seller_type = pd.Series(data = vedata['listings'][int(car_num)]['seller_type'])\n",
    "        except:\n",
    "            d_seller_type = pd.Series(data = 'None')\n",
    "            \n",
    "        try:\n",
    "            d_dealer_name = pd.Series(data = vedata['listings'][int(car_num)]['dealer']['name'])\n",
    "        except:\n",
    "            d_dealer_name = pd.Series(data = 'None')\n",
    "        \n",
    "        try:\n",
    "            d_dealer_website = pd.Series(data = vedata['listings'][int(car_num)]['dealer']['website'])\n",
    "        except:\n",
    "            d_dealer_website = pd.Series(data = 'None')\n",
    "            \n",
    "        try:\n",
    "            d_dealer_street = pd.Series(data = vedata['listings'][int(car_num)]['dealer']['street'])\n",
    "        except:\n",
    "            d_dealer_street = pd.Series(data = 'None')\n",
    "        \n",
    "        try:\n",
    "            d_dealer_phone = pd.Series(data = vedata['listings'][int(car_num)]['dealer']['phone'])\n",
    "        except:\n",
    "            d_dealer_phone = pd.Series(data = 'None')\n",
    "        \n",
    "        \n",
    "        \n",
    "        series_dict_2 = {'Vehicle Name' : d_heading, 'Price' : d_price, 'MRSP' : d_msrp, 'Maker Website' : d_url, 'Exterior Color' : d_exterior_color, 'Interior Color' : d_interior_color,\n",
    "                        'Model Year' : d_build_year, 'Model Maker' : d_build_make, 'Model' : d_build_model, 'Model Trim': d_build_trim, 'Model Type': d_build_body_type,\n",
    "                        'Door Number' : d_build_door, \"Seller Type\" : d_seller_type, \"Dealer Name\" : d_dealer_name, 'Dealer Website' : d_dealer_website,\n",
    "                        'Dealer Address' : d_dealer_street, 'Dealer Phone' : d_dealer_phone}\n",
    "        detail_info = pd.DataFrame(series_dict_2)\n",
    "        return detail_info   \n",
    "    except:\n",
    "        printmd(\"**Error: Please enter the correct number in front of the list!**\", color = \"red\")"
   ]
  },
  {
   "cell_type": "code",
   "execution_count": 7,
   "metadata": {},
   "outputs": [],
   "source": [
    "def Location(car_num):\n",
    "    lat = float(get_position(city_name)[0])\n",
    "    long = float(get_position(city_name)[1])\n",
    "    location_city = (lat,long)\n",
    "    map = folium.Map(location = location_city , zoom_start = 12)\n",
    "    dealer_lat = vedata['listings'][int(car_num)]['dealer']['latitude']\n",
    "    dealer_long = vedata['listings'][int(car_num)]['dealer']['longitude']\n",
    "    pos =   (float(dealer_lat), float(dealer_long))\n",
    "    marker = folium.Marker(location=pos,\n",
    "                          popup = \"Dealer location: %s\" %vedata['listings'][int(car_num)]['dealer']['street'])  \n",
    "    map.add_children(marker)\n",
    "    return map"
   ]
  },
  {
   "cell_type": "code",
   "execution_count": 8,
   "metadata": {},
   "outputs": [],
   "source": [
    "def National_top():\n",
    "    url = 'http://api.marketcheck.com/v1/popular/cars?api_key=A4BOgtzeC4SvzhgNYGYe7AIbCIe0wD0q&car_type=new'\n",
    "    headers = {\n",
    "      'host': 'marketcheck-prod.apigee.net'\n",
    "    }\n",
    "    response = requests.request('GET', url, headers = headers)\n",
    "    nationaltop = response.json()\n",
    "    \n",
    "    national_name = []\n",
    "    national_model = []\n",
    "    for i in nationaltop:\n",
    "        national_name.append(i['make'])\n",
    "        national_model.append(i['model'])\n",
    "\n",
    "    national_names = pd.Series(data = national_name)\n",
    "    national_models = pd.Series(data = national_model)\n",
    "\n",
    "    series_dict_3 = {'Vehicle Maker' : national_names, 'Model' : national_models}\n",
    "    national_top = pd.DataFrame(series_dict_3)\n",
    "    return national_top"
   ]
  },
  {
   "cell_type": "code",
   "execution_count": 9,
   "metadata": {},
   "outputs": [],
   "source": [
    "def Statewise_top(value_state):\n",
    "    url = 'http://api.marketcheck.com/v1/popular/cars?api_key=A4BOgtzeC4SvzhgNYGYe7AIbCIe0wD0q&car_type=new&state=' + value_state\n",
    "    headers = {\n",
    "      'host': 'marketcheck-prod.apigee.net'\n",
    "    }\n",
    "    response = requests.request('GET', url, headers = headers)\n",
    "    statewisetop = response.json()\n",
    "    \n",
    "    statewise_name = []\n",
    "    statewise_model = []\n",
    "    for i in statewisetop:\n",
    "        statewise_name.append(i['make'])\n",
    "        statewise_model.append(i['model'])\n",
    "\n",
    "    statewise_names = pd.Series(data = statewise_name)\n",
    "    statewise_models = pd.Series(data = statewise_model)\n",
    "\n",
    "    series_dict_4 = {'Vehicle Maker' : statewise_names, 'Model' : statewise_models}\n",
    "    statewise_top = pd.DataFrame(series_dict_4)\n",
    "    return statewise_top"
   ]
  },
  {
   "cell_type": "code",
   "execution_count": 10,
   "metadata": {},
   "outputs": [],
   "source": [
    "def Citywise_top(value_city): \n",
    "    url = 'http://api.marketcheck.com/v1/popular/cars?api_key=A4BOgtzeC4SvzhgNYGYe7AIbCIe0wD0q&car_type=new&city_state=' + value_city \n",
    "    headers = {\n",
    "      'host': 'marketcheck-prod.apigee.net'\n",
    "    }\n",
    "    response = requests.request('GET', url, headers = headers)\n",
    "    citywisetop = response.json()\n",
    "    \n",
    "    citywise_name = []\n",
    "    citywise_model = []\n",
    "    for i in citywisetop:\n",
    "        citywise_name.append(i['make'])\n",
    "        citywise_model.append(i['model'])\n",
    "\n",
    "    citywise_names = pd.Series(data = citywise_name)\n",
    "    citywise_models = pd.Series(data = citywise_model)\n",
    "\n",
    "    series_dict_5 = {'Vehicle Maker' : citywise_names, 'Model' : citywise_models}\n",
    "    citywise_top = pd.DataFrame(series_dict_5)\n",
    "    return citywise_top"
   ]
  },
  {
   "cell_type": "code",
   "execution_count": 11,
   "metadata": {
    "scrolled": false
   },
   "outputs": [
    {
     "data": {
      "text/markdown": [
       "<span style='color:blue'>**Cars-info Program**</span>"
      ],
      "text/plain": [
       "<IPython.core.display.Markdown object>"
      ]
     },
     "metadata": {},
     "output_type": "display_data"
    },
    {
     "data": {
      "text/markdown": [
       "<span style='color:None'>**Welcome to the Cars_info program! This is a program that helps you to find your dream car and its information. Please follow the instrustions while you using the program.**</span>"
      ],
      "text/plain": [
       "<IPython.core.display.Markdown object>"
      ]
     },
     "metadata": {},
     "output_type": "display_data"
    },
    {
     "data": {
      "text/markdown": [
       "<span style='color:None'>**There are two modes in this program: Searching mode and Popularity mode.**</span>"
      ],
      "text/plain": [
       "<IPython.core.display.Markdown object>"
      ]
     },
     "metadata": {},
     "output_type": "display_data"
    },
    {
     "data": {
      "text/markdown": [
       "<span style='color:None'>**The Searching mode helps you to find car information. The Popularity mode provides you the popular cars list in your area.**</span>"
      ],
      "text/plain": [
       "<IPython.core.display.Markdown object>"
      ]
     },
     "metadata": {},
     "output_type": "display_data"
    },
    {
     "data": {
      "text/markdown": [
       "<span style='color:red'>**Instruction:**</span>"
      ],
      "text/plain": [
       "<IPython.core.display.Markdown object>"
      ]
     },
     "metadata": {},
     "output_type": "display_data"
    },
    {
     "data": {
      "text/markdown": [
       "<span style='color:None'>**To begin, enter \"**searching**\" or \"**popularity**\"**</span>"
      ],
      "text/plain": [
       "<IPython.core.display.Markdown object>"
      ]
     },
     "metadata": {},
     "output_type": "display_data"
    },
    {
     "name": "stdout",
     "output_type": "stream",
     "text": [
      "Please enter a mode to start: searching\n"
     ]
    },
    {
     "data": {
      "text/markdown": [
       "<span style='color:red'>**Instruction:**</span>"
      ],
      "text/plain": [
       "<IPython.core.display.Markdown object>"
      ]
     },
     "metadata": {},
     "output_type": "display_data"
    },
    {
     "data": {
      "text/markdown": [
       "<span style='color:None'>**In the Searching mode, you will be asked for the location that you want to begin your search. Remember to enter the correct city name.**</span>"
      ],
      "text/plain": [
       "<IPython.core.display.Markdown object>"
      ]
     },
     "metadata": {},
     "output_type": "display_data"
    },
    {
     "name": "stdout",
     "output_type": "stream",
     "text": [
      "Please enter your city name: Syracuse\n"
     ]
    },
    {
     "data": {
      "text/markdown": [
       "<span style='color:red'>**Instruction:**</span>"
      ],
      "text/plain": [
       "<IPython.core.display.Markdown object>"
      ]
     },
     "metadata": {},
     "output_type": "display_data"
    },
    {
     "data": {
      "text/markdown": [
       "<span style='color:None'>**You will be asked to input the name of the manufacturer, the model name, the model year, the car condition, and the searching radius in miles.**</span>"
      ],
      "text/plain": [
       "<IPython.core.display.Markdown object>"
      ]
     },
     "metadata": {},
     "output_type": "display_data"
    },
    {
     "name": "stdout",
     "output_type": "stream",
     "text": [
      "Please enter the name of the manufacturer: BMW\n",
      "Please enter the car model name(full name): X5\n",
      "Please enter the model year: 2019\n",
      "Please enter the car condition(new or used): new\n",
      "Please enter the searching radius: 30\n"
     ]
    },
    {
     "data": {
      "text/markdown": [
       "<span style='color:red'>**Instruction:**</span>"
      ],
      "text/plain": [
       "<IPython.core.display.Markdown object>"
      ]
     },
     "metadata": {},
     "output_type": "display_data"
    },
    {
     "data": {
      "text/markdown": [
       "<span style='color:None'>**Here is the general information of the car that you picked. To get more detailed information, enter the number in the first row to begin.**</span>"
      ],
      "text/plain": [
       "<IPython.core.display.Markdown object>"
      ]
     },
     "metadata": {},
     "output_type": "display_data"
    },
    {
     "data": {
      "text/html": [
       "<div>\n",
       "<style scoped>\n",
       "    .dataframe tbody tr th:only-of-type {\n",
       "        vertical-align: middle;\n",
       "    }\n",
       "\n",
       "    .dataframe tbody tr th {\n",
       "        vertical-align: top;\n",
       "    }\n",
       "\n",
       "    .dataframe thead th {\n",
       "        text-align: right;\n",
       "    }\n",
       "</style>\n",
       "<table border=\"1\" class=\"dataframe\">\n",
       "  <thead>\n",
       "    <tr style=\"text-align: right;\">\n",
       "      <th></th>\n",
       "      <th>Vehicle Name</th>\n",
       "      <th>Retail Price</th>\n",
       "      <th>Exterior Color</th>\n",
       "      <th>Interior Color</th>\n",
       "      <th>Vehicle Type</th>\n",
       "      <th>Vin Number</th>\n",
       "    </tr>\n",
       "  </thead>\n",
       "  <tbody>\n",
       "    <tr>\n",
       "      <th>0</th>\n",
       "      <td>2019 BMW X5 Xdrive40i</td>\n",
       "      <td>68245</td>\n",
       "      <td>Mineral White Metallic</td>\n",
       "      <td>COGNAC VERNASCA LEATHER</td>\n",
       "      <td>SUV</td>\n",
       "      <td>5UXCR6C51KLL24927</td>\n",
       "    </tr>\n",
       "    <tr>\n",
       "      <th>1</th>\n",
       "      <td>2019 BMW X5 Xdrive40i</td>\n",
       "      <td>67045</td>\n",
       "      <td>Black Sapphire Metallic</td>\n",
       "      <td>BLACK VERNASCA LEATHER</td>\n",
       "      <td>SUV</td>\n",
       "      <td>5UXCR6C57KLL25757</td>\n",
       "    </tr>\n",
       "    <tr>\n",
       "      <th>2</th>\n",
       "      <td>2019 BMW X5 Xdrive40i</td>\n",
       "      <td>65595</td>\n",
       "      <td>Phytonic Blue Metallic</td>\n",
       "      <td>BLACK W SENSATEC UPHOLSTERY</td>\n",
       "      <td>SUV</td>\n",
       "      <td>5UXCR6C54KLL06129</td>\n",
       "    </tr>\n",
       "    <tr>\n",
       "      <th>3</th>\n",
       "      <td>2019 BMW X5 Xdrive40i</td>\n",
       "      <td>65505</td>\n",
       "      <td>Jet Black</td>\n",
       "      <td>BLACK W SENSATEC UPHOLSTERY</td>\n",
       "      <td>SUV</td>\n",
       "      <td>5UXCR6C59KLL06465</td>\n",
       "    </tr>\n",
       "    <tr>\n",
       "      <th>4</th>\n",
       "      <td>2019 BMW X5 Xdrive40i</td>\n",
       "      <td>66245</td>\n",
       "      <td>Arctic Gray Metallic</td>\n",
       "      <td>BLACK SENSATEC</td>\n",
       "      <td>SUV</td>\n",
       "      <td>5UXCR6C5XKLL24862</td>\n",
       "    </tr>\n",
       "  </tbody>\n",
       "</table>\n",
       "</div>"
      ],
      "text/plain": [
       "            Vehicle Name  Retail Price           Exterior Color  \\\n",
       "0  2019 BMW X5 Xdrive40i         68245   Mineral White Metallic   \n",
       "1  2019 BMW X5 Xdrive40i         67045  Black Sapphire Metallic   \n",
       "2  2019 BMW X5 Xdrive40i         65595   Phytonic Blue Metallic   \n",
       "3  2019 BMW X5 Xdrive40i         65505                Jet Black   \n",
       "4  2019 BMW X5 Xdrive40i         66245     Arctic Gray Metallic   \n",
       "\n",
       "                Interior Color Vehicle Type         Vin Number  \n",
       "0      COGNAC VERNASCA LEATHER          SUV  5UXCR6C51KLL24927  \n",
       "1       BLACK VERNASCA LEATHER          SUV  5UXCR6C57KLL25757  \n",
       "2  BLACK W SENSATEC UPHOLSTERY          SUV  5UXCR6C54KLL06129  \n",
       "3  BLACK W SENSATEC UPHOLSTERY          SUV  5UXCR6C59KLL06465  \n",
       "4               BLACK SENSATEC          SUV  5UXCR6C5XKLL24862  "
      ]
     },
     "metadata": {},
     "output_type": "display_data"
    },
    {
     "name": "stdout",
     "output_type": "stream",
     "text": [
      "Please enter the number of the car which you want to get more detailed information: 3\n",
      "This is the detail information of X5\n"
     ]
    },
    {
     "data": {
      "text/html": [
       "<div>\n",
       "<style scoped>\n",
       "    .dataframe tbody tr th:only-of-type {\n",
       "        vertical-align: middle;\n",
       "    }\n",
       "\n",
       "    .dataframe tbody tr th {\n",
       "        vertical-align: top;\n",
       "    }\n",
       "\n",
       "    .dataframe thead th {\n",
       "        text-align: right;\n",
       "    }\n",
       "</style>\n",
       "<table border=\"1\" class=\"dataframe\">\n",
       "  <thead>\n",
       "    <tr style=\"text-align: right;\">\n",
       "      <th></th>\n",
       "      <th>Vehicle Name</th>\n",
       "      <th>Price</th>\n",
       "      <th>MRSP</th>\n",
       "      <th>Maker Website</th>\n",
       "      <th>Exterior Color</th>\n",
       "      <th>Interior Color</th>\n",
       "      <th>Model Year</th>\n",
       "      <th>Model Maker</th>\n",
       "      <th>Model</th>\n",
       "      <th>Model Trim</th>\n",
       "      <th>Model Type</th>\n",
       "      <th>Door Number</th>\n",
       "      <th>Seller Type</th>\n",
       "      <th>Dealer Name</th>\n",
       "      <th>Dealer Website</th>\n",
       "      <th>Dealer Address</th>\n",
       "      <th>Dealer Phone</th>\n",
       "    </tr>\n",
       "  </thead>\n",
       "  <tbody>\n",
       "    <tr>\n",
       "      <th>0</th>\n",
       "      <td>2019 BMW X5 Xdrive40i</td>\n",
       "      <td>65505</td>\n",
       "      <td>65505</td>\n",
       "      <td>https://www.burdickbmw.com/new/BMW/2019-BMW-X5...</td>\n",
       "      <td>Jet Black</td>\n",
       "      <td>BLACK W SENSATEC UPHOLSTERY</td>\n",
       "      <td>2019</td>\n",
       "      <td>BMW</td>\n",
       "      <td>X5</td>\n",
       "      <td>Xdrive40i</td>\n",
       "      <td>SUV</td>\n",
       "      <td>None</td>\n",
       "      <td>dealer</td>\n",
       "      <td>Burdick BMW</td>\n",
       "      <td>www.burdickbmw.com</td>\n",
       "      <td>5947 East Circle Drive</td>\n",
       "      <td>888-722-1673</td>\n",
       "    </tr>\n",
       "  </tbody>\n",
       "</table>\n",
       "</div>"
      ],
      "text/plain": [
       "            Vehicle Name  Price   MRSP  \\\n",
       "0  2019 BMW X5 Xdrive40i  65505  65505   \n",
       "\n",
       "                                       Maker Website Exterior Color  \\\n",
       "0  https://www.burdickbmw.com/new/BMW/2019-BMW-X5...      Jet Black   \n",
       "\n",
       "                Interior Color  Model Year Model Maker Model Model Trim  \\\n",
       "0  BLACK W SENSATEC UPHOLSTERY        2019         BMW    X5  Xdrive40i   \n",
       "\n",
       "  Model Type Door Number Seller Type  Dealer Name      Dealer Website  \\\n",
       "0        SUV        None      dealer  Burdick BMW  www.burdickbmw.com   \n",
       "\n",
       "           Dealer Address  Dealer Phone  \n",
       "0  5947 East Circle Drive  888-722-1673  "
      ]
     },
     "metadata": {},
     "output_type": "display_data"
    },
    {
     "data": {
      "text/html": [
       "<img src=\"https://images.dealer.com/ddc/vehicles/2019/BMW/X5/SUV/trim_xDrive40i_83c137/color/Jet%20Black-668-0%2C0%2C0-640-en_US.jpg?impolicy=resize&w=650\"/>"
      ],
      "text/plain": [
       "<IPython.core.display.Image object>"
      ]
     },
     "metadata": {},
     "output_type": "display_data"
    },
    {
     "data": {
      "text/html": [
       "<div style=\"width:100%;\"><div style=\"position:relative;width:100%;height:0;padding-bottom:60%;\"><iframe src=\"data:text/html;charset=utf-8;base64,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\" style=\"position:absolute;width:100%;height:100%;left:0;top:0;border:none !important;\" allowfullscreen webkitallowfullscreen mozallowfullscreen></iframe></div></div>"
      ],
      "text/plain": [
       "<folium.folium.Map at 0x10d1ae9b0>"
      ]
     },
     "metadata": {},
     "output_type": "display_data"
    },
    {
     "name": "stdout",
     "output_type": "stream",
     "text": [
      "Thank you!\n"
     ]
    }
   ],
   "source": [
    "printmd(\"**Cars-info Program**\", color = \"blue\")\n",
    "printmd(\"**Welcome to the Cars_info program! This is a program that helps you to find your dream car and its information. Please follow the instrustions while you using the program.**\")\n",
    "printmd(\"**There are two modes in this program: Searching mode and Popularity mode.**\")\n",
    "printmd(\"**The Searching mode helps you to find car information. The Popularity mode provides you the popular cars list in your area.**\")\n",
    "printmd(\"**Instruction:**\", color = \"red\")\n",
    "printmd(\"**To begin, enter \\\"**searching**\\\" or \\\"**popularity**\\\"**\")\n",
    "\n",
    "mode = input(\"Please enter a mode to start: \")\n",
    "\n",
    "if mode == \"searching\":\n",
    "    printmd(\"**Instruction:**\", color = \"red\")\n",
    "    printmd(\"**In the Searching mode, you will be asked for the location that you want to begin your search. Remember to enter the correct city name.**\")\n",
    "    city_name = input(\"Please enter your city name: \")\n",
    "    get_position(city_name)\n",
    "    \n",
    "    printmd(\"**Instruction:**\", color = \"red\")\n",
    "    printmd(\"**You will be asked to input the name of the manufacturer, the model name, the model year, the car condition, and the searching radius in miles.**\")       \n",
    "    manufacturer = input(\"Please enter the name of the manufacturer: \").capitalize()\n",
    "    model = input(\"Please enter the car model name(full name): \")\n",
    "    model_year = input(\"Please enter the model year: \")\n",
    "    car_condition = input(\"Please enter the car condition(new or used): \").lower()\n",
    "    radius = input(\"Please enter the searching radius: \")\n",
    "    try:\n",
    "        1900 <= int(model_year) <= 2020\n",
    "    except:\n",
    "        printmd(\"**Error: Please enter the model year no later than 2020!**\", color = \"red\")\n",
    "        \n",
    "    try:  \n",
    "        car_condition == 'new' or 'used'\n",
    "    except:\n",
    "        printmd(\"**Error: Please enter only 'new' or 'used'!**\", color = \"red\")\n",
    "    \n",
    "    try:\n",
    "        30 >= float(radius) >= 1\n",
    "    except:\n",
    "        printmd(\"**Error: Please enter the searching radius between 1 - 30!**\", color = \"red\")\n",
    "    \n",
    "    \n",
    "    vedata = vehicle_data(manufacturer, model, model_year, car_condition, radius)\n",
    "    \n",
    "    printmd(\"**Instruction:**\", color = \"red\")\n",
    "    printmd(\"**Here is the general information of the car that you picked. To get more detailed information, enter the number in the first row to begin.**\")\n",
    "        \n",
    "    display(General_info(vedata))\n",
    "    \n",
    "    car_num = input(\"Please enter the number of the car which you want to get more detailed information: \")\n",
    "\n",
    "    print(\"This is the detail information of %s\" % model)\n",
    "    display(Detail_info(car_num))\n",
    "\n",
    "    try:\n",
    "        d_photo_1 = vedata['listings'][int(car_num)]['media']['photo_links'][0]\n",
    "\n",
    "        display(Image(url = d_photo_1))\n",
    "\n",
    "        display(Location(car_num))\n",
    "        print(\"Thank you!\")\n",
    "    except:\n",
    "        display(Location(car_num))\n",
    "        print(\"Thank you!\")\n",
    "\n",
    "\n",
    "    \n",
    "elif mode == \"popularity\":\n",
    "    printmd(\"**Instruction:**\", color = \"red\")\n",
    "    printmd(\"**There are three different lists that you can choose: National Top 50 Popular cars, Statewise Top 50 Popular cars, and Citywise Top 25 Popular cars.**\")\n",
    "    popularity_mode = input(\"Please enter the list you want to choose (enter: National, Statewise, or Citywise): \").capitalize()\n",
    "    \n",
    "    if popularity_mode == \"National\":\n",
    "        print(\"Here is the list for National Top 50 Popular Cars:\")\n",
    "        display(National_top())\n",
    "        print(\"Thank you!\")\n",
    "    \n",
    "    elif popularity_mode == \"Statewise\":\n",
    "        printmd(\"**Instruction:**\", color = \"red\")\n",
    "        printmd(\"**To search the statewise popular cars, you need to enter the State Abbreviation!**\")\n",
    "        try:\n",
    "            value_state = str(input(\"Please enter the State that you want to search (abbreviation): \").upper())\n",
    "            print(\"Here is the list for Statewise Top 50 Popular Cars:\")\n",
    "            display(Statewise_top(value_state))\n",
    "            print(\"Thank you!\")\n",
    "        except:\n",
    "            printmd(\"**Sorry, there is nothing found!**\", color = \"red\")\n",
    "        \n",
    "\n",
    "    elif popularity_mode == \"Citywise\":\n",
    "        printmd(\"**Instruction:**\", color = \"red\")\n",
    "        printmd(\"**To begin, enter the City name and the State Abbreviation with the vertical line in the middle. Example: Syracuse|NY. Remember: your input should not include space!**\")\n",
    "        try:\n",
    "            value_city = str(input(\"Please enter the City name and the State Abbreviation with the vertical line(|) in the middle: \")).capitalize()\n",
    "            print(\"Here is the list for Citywise Top 25 Popular Cars:\")\n",
    "            display(Citywise_top(value_city))\n",
    "            print(\"Thank you!\")\n",
    "        except:\n",
    "            printmd(\"**Sorry, there is nothing found!**\", color = \"red\")\n",
    "\n",
    "            \n",
    "else:\n",
    "    printmd(\"**Error: Please enter a correct mode name!**\", color = \"red\")"
   ]
  },
  {
   "cell_type": "code",
   "execution_count": null,
   "metadata": {},
   "outputs": [],
   "source": []
  }
 ],
 "metadata": {
  "kernelspec": {
   "display_name": "Python 3",
   "language": "python",
   "name": "python3"
  },
  "language_info": {
   "codemirror_mode": {
    "name": "ipython",
    "version": 3
   },
   "file_extension": ".py",
   "mimetype": "text/x-python",
   "name": "python",
   "nbconvert_exporter": "python",
   "pygments_lexer": "ipython3",
   "version": "3.6.6"
  }
 },
 "nbformat": 4,
 "nbformat_minor": 2
}
